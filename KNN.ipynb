{
 "cells": [
  {
   "cell_type": "code",
   "execution_count": 1,
   "source": [
    "import pandas as pd\n",
    "import numpy as np\n",
    "from sklearn.neighbors import KNeighborsClassifier"
   ],
   "outputs": [],
   "metadata": {}
  },
  {
   "cell_type": "code",
   "execution_count": 2,
   "source": [
    "data = pd.read_csv(\"European_bank_marketing.csv\")"
   ],
   "outputs": [],
   "metadata": {}
  },
  {
   "cell_type": "code",
   "execution_count": 3,
   "source": [
    "training_frac = 0.7\n",
    "training_end = int(len(data)*training_frac)"
   ],
   "outputs": [],
   "metadata": {}
  },
  {
   "cell_type": "code",
   "execution_count": 5,
   "source": [
    "train_data = data.iloc[:training_end, :]\n",
    "test_data = data.iloc[training_end:, :]"
   ],
   "outputs": [],
   "metadata": {}
  },
  {
   "cell_type": "code",
   "execution_count": 6,
   "source": [
    "y_train = train_data['term_deposit'] # Target Variable\n",
    "X_train = train_data.loc[:, train_data.columns != 'term_deposit'] # Exogenous Variables"
   ],
   "outputs": [],
   "metadata": {}
  },
  {
   "cell_type": "code",
   "execution_count": 7,
   "source": [
    "numerics = ['int16', 'int32', 'int64', 'float16', 'float32', 'float64']\n",
    "num_X_train = X_train.select_dtypes(include=numerics) # Numerical Exogenous Variables\n",
    "str_X_train = X_train.select_dtypes(include =['object']) # Categorical Exogenous Variables"
   ],
   "outputs": [],
   "metadata": {}
  },
  {
   "cell_type": "code",
   "execution_count": 8,
   "source": [
    "def integer_encoding(df, series_name):\n",
    "\n",
    "    # Find unique categorical labels\n",
    "    unique_labels = df[series_name].unique()\n",
    "\n",
    "    # Translate str label into simple numerical label e.g. 0, 1, 2, 3, ..., n\n",
    "    # where n is the number of labels\n",
    "    encoding_dict = {unique_labels[i]: i for i in range(len(unique_labels))}\n",
    "\n",
    "    # Replace the str labels with the numerical ones\n",
    "    df = df.replace({series_name: encoding_dict})\n",
    "    return df"
   ],
   "outputs": [],
   "metadata": {}
  },
  {
   "cell_type": "code",
   "execution_count": 9,
   "source": [
    "# Implementing Integer Encoding\n",
    "for column in str_X_train.columns:\n",
    "    str_X_train = integer_encoding(str_X_train, column)"
   ],
   "outputs": [],
   "metadata": {}
  },
  {
   "cell_type": "code",
   "execution_count": 10,
   "source": [
    "def standardise_df(df):\n",
    "    return (df - df.mean())/df.std()"
   ],
   "outputs": [],
   "metadata": {}
  },
  {
   "cell_type": "code",
   "execution_count": 11,
   "source": [
    "# Standardising Numerical Values\n",
    "num_X_train = standardise_df(num_X_train)"
   ],
   "outputs": [],
   "metadata": {}
  },
  {
   "cell_type": "code",
   "execution_count": 12,
   "source": [
    "# X['marital'].unique()"
   ],
   "outputs": [],
   "metadata": {}
  },
  {
   "cell_type": "code",
   "execution_count": 13,
   "source": [
    "processed_X_train = pd.concat([num_X_train, str_X_train], axis = 1)"
   ],
   "outputs": [],
   "metadata": {}
  },
  {
   "cell_type": "markdown",
   "source": [
    "Fitting K-NN with $k = 1, 3, 5, 10$"
   ],
   "metadata": {}
  },
  {
   "cell_type": "code",
   "execution_count": 14,
   "source": [
    "models_by_k = {1: KNeighborsClassifier(n_neighbors=1).fit(processed_X_train, y_train),\n",
    "               3: KNeighborsClassifier(n_neighbors=3).fit(processed_X_train, y_train),\n",
    "               5: KNeighborsClassifier(n_neighbors=5).fit(processed_X_train, y_train),\n",
    "               10: KNeighborsClassifier(n_neighbors=10).fit(processed_X_train, y_train)}"
   ],
   "outputs": [],
   "metadata": {}
  },
  {
   "cell_type": "markdown",
   "source": [
    "**Test Data**"
   ],
   "metadata": {}
  },
  {
   "cell_type": "code",
   "execution_count": 15,
   "source": [
    "y_test = test_data['term_deposit'] # Target Variable\n",
    "X_test = test_data.loc[:, test_data.columns != 'term_deposit'] # Exogenous Variables"
   ],
   "outputs": [],
   "metadata": {}
  },
  {
   "cell_type": "code",
   "execution_count": 16,
   "source": [
    "num_X_test = X_test.select_dtypes(include=numerics) # Numerical Exogenous Variables\n",
    "str_X_test = X_test.select_dtypes(include =['object']) # Categorical Exogenous Variables"
   ],
   "outputs": [],
   "metadata": {}
  },
  {
   "cell_type": "code",
   "execution_count": 17,
   "source": [
    "# Implementing Integer Encoding\n",
    "for column in str_X_test.columns:\n",
    "    str_X_test = integer_encoding(str_X_test, column)"
   ],
   "outputs": [],
   "metadata": {}
  },
  {
   "cell_type": "code",
   "execution_count": 18,
   "source": [
    "# Standardising Numerical Values\n",
    "num_X_test = standardise_df(num_X_test)"
   ],
   "outputs": [],
   "metadata": {}
  },
  {
   "cell_type": "code",
   "execution_count": 19,
   "source": [
    "processed_X_test = pd.concat([num_X_test, str_X_test], axis = 1)"
   ],
   "outputs": [],
   "metadata": {}
  },
  {
   "cell_type": "code",
   "execution_count": 20,
   "source": [
    "def confusion_matrix(test_labels, preds):\n",
    "\n",
    "    model_classifications = {\"TP\": 0, \n",
    "                             \"TN\": 0, \n",
    "                             \"FP\": 0, \n",
    "                             \"FN\": 0}\n",
    "\n",
    "    for i in range(len(y_test)):\n",
    "        if preds[i] == 1 and preds[i] == test_labels[i]:\n",
    "            model_classifications['TP'] += 1\n",
    "        \n",
    "        elif preds[i] == 0 and preds[i] == test_labels[i]:\n",
    "            model_classifications['TN'] += 1\n",
    "\n",
    "        elif preds[i] == 1 and test_labels[i] == 0:\n",
    "            model_classifications['FP'] += 1\n",
    "        \n",
    "        elif preds[i] == 0 and test_labels[i] == 1:\n",
    "            model_classifications['FN'] += 1\n",
    "    \n",
    "    return model_classifications\n"
   ],
   "outputs": [],
   "metadata": {}
  },
  {
   "cell_type": "code",
   "execution_count": 21,
   "source": [
    "def accuracy(confusion_matrix):\n",
    "    TP = confusion_matrix[\"TP\"]\n",
    "    TN = confusion_matrix[\"TN\"]\n",
    "    FP = confusion_matrix[\"FP\"]\n",
    "    FN = confusion_matrix[\"FN\"]\n",
    "    return (TP + TN)/(TP + FP + TN + FN)"
   ],
   "outputs": [],
   "metadata": {}
  },
  {
   "cell_type": "code",
   "execution_count": 22,
   "source": [
    "def sensitivity(confusion_matrix):\n",
    "    TP = confusion_matrix[\"TP\"]\n",
    "    FN = confusion_matrix[\"FN\"]\n",
    "    return (TP)/(TP + FN)"
   ],
   "outputs": [],
   "metadata": {}
  },
  {
   "cell_type": "code",
   "execution_count": 23,
   "source": [
    "def specificity(confusion_matrix):\n",
    "    TN = confusion_matrix[\"TN\"]\n",
    "    FP = confusion_matrix[\"FP\"]\n",
    "    return (TN)/(TN + FP)"
   ],
   "outputs": [],
   "metadata": {}
  },
  {
   "cell_type": "code",
   "execution_count": 24,
   "source": [
    "confusion_matrices = {}\n",
    "accuracies = {}\n",
    "sensitivities = {}\n",
    "specificities = {}\n",
    "for k in [1,3,5,10]:\n",
    "    pred_k = models_by_k[k].predict(processed_X_test)\n",
    "    confusion_matrices[k] = confusion_matrix(np.array(y_test), pred_k)\n",
    "    accuracies[k] = accuracy(confusion_matrices[k])\n",
    "    sensitivities[k] = sensitivity(confusion_matrices[k])\n",
    "    specificities[k] = specificity(confusion_matrices[k])"
   ],
   "outputs": [],
   "metadata": {}
  },
  {
   "cell_type": "code",
   "execution_count": 25,
   "source": [
    "accuracies"
   ],
   "outputs": [
    {
     "output_type": "execute_result",
     "data": {
      "text/plain": [
       "{1: 0.7615926195678563,\n",
       " 3: 0.7619972485231044,\n",
       " 5: 0.7607833616573602,\n",
       " 10: 0.7607833616573602}"
      ]
     },
     "metadata": {},
     "execution_count": 25
    }
   ],
   "metadata": {}
  },
  {
   "cell_type": "code",
   "execution_count": 26,
   "source": [
    "sensitivities"
   ],
   "outputs": [
    {
     "output_type": "execute_result",
     "data": {
      "text/plain": [
       "{1: 0.1786420566908372,\n",
       " 3: 0.11305207646671062,\n",
       " 5: 0.08305866842452209,\n",
       " 10: 0.04515491100856955}"
      ]
     },
     "metadata": {},
     "execution_count": 26
    }
   ],
   "metadata": {}
  },
  {
   "cell_type": "code",
   "execution_count": 27,
   "source": [
    "specificities"
   ],
   "outputs": [
    {
     "output_type": "execute_result",
     "data": {
      "text/plain": [
       "{1: 0.9513032285744932,\n",
       " 3: 0.9731845972326504,\n",
       " 5: 0.9813364796739247,\n",
       " 10: 0.9936715649469055}"
      ]
     },
     "metadata": {},
     "execution_count": 27
    }
   ],
   "metadata": {}
  }
 ],
 "metadata": {
  "orig_nbformat": 4,
  "language_info": {
   "name": "python",
   "version": "3.8.8",
   "mimetype": "text/x-python",
   "codemirror_mode": {
    "name": "ipython",
    "version": 3
   },
   "pygments_lexer": "ipython3",
   "nbconvert_exporter": "python",
   "file_extension": ".py"
  },
  "kernelspec": {
   "name": "python3",
   "display_name": "Python 3.8.8 64-bit ('base': conda)"
  },
  "interpreter": {
   "hash": "4e7a58de4b7e505b0e82f0adcc21bb9621f61c2c1c0bdf66b0394a18a0c298a7"
  }
 },
 "nbformat": 4,
 "nbformat_minor": 2
}